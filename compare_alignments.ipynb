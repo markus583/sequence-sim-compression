{
 "cells": [
  {
   "cell_type": "code",
   "execution_count": 1,
   "metadata": {},
   "outputs": [],
   "source": [
    "import pandas as pd"
   ]
  },
  {
   "cell_type": "code",
   "execution_count": 2,
   "metadata": {},
   "outputs": [],
   "source": [
    "from calculate_alignment import calculate_alignment_score"
   ]
  },
  {
   "cell_type": "code",
   "execution_count": 3,
   "metadata": {},
   "outputs": [],
   "source": [
    "ORGANISM_NAMES = [\n",
    "    \"cat\",\n",
    "    \"cattle\",\n",
    "    \"mouse\",\n",
    "    \"rat\",\n",
    "    \"wolf\",\n",
    "    \"sheep\",\n",
    "]"
   ]
  },
  {
   "cell_type": "code",
   "execution_count": 4,
   "metadata": {},
   "outputs": [],
   "source": [
    "ORGANISM_FILES = [f\"data/{name}.txt\" for name in ORGANISM_NAMES]"
   ]
  },
  {
   "cell_type": "markdown",
   "metadata": {},
   "source": [
    "# Gzip"
   ]
  },
  {
   "cell_type": "code",
   "execution_count": 5,
   "metadata": {},
   "outputs": [],
   "source": [
    "# for each of the organism pairs, calculate the alignment score\n",
    "# only on lowercase triangular matrix\n",
    "\n",
    "\n",
    "def fill_similarity_matrix(method: str = \"gzip\") -> pd.DataFrame:\n",
    "    \"\"\"Fill the similarity matrix with the alignment scores.\n",
    "\n",
    "    Args:\n",
    "        method (str, optional): The method to use for calculating the alignment score. Defaults to \"gzip\".\n",
    "\n",
    "    Returns:\n",
    "        pd.DataFrame: The similarity matrix.\n",
    "    \"\"\"\n",
    "    df = pd.DataFrame(index=ORGANISM_NAMES, columns=ORGANISM_NAMES)\n",
    "    # note that upper triangular values remain NaN\n",
    "    # but matrix is symmetric!\n",
    "    # still, we do not fill them for clarity\n",
    "    for i in range(len(ORGANISM_NAMES)):\n",
    "        for j in range(len(ORGANISM_NAMES)):\n",
    "            name1 = ORGANISM_NAMES[i]\n",
    "            name2 = ORGANISM_NAMES[j]\n",
    "            # skip diagonal and upper triangular matrix\n",
    "            if i == j:\n",
    "                df.loc[name1, name2] = 1.\n",
    "            if i >= j:\n",
    "                continue\n",
    "            result = calculate_alignment_score(\n",
    "                file_a=ORGANISM_FILES[i], file_b=ORGANISM_FILES[j], method=method\n",
    "            )\n",
    "            df.loc[name2, name1] = result\n",
    "    return df"
   ]
  },
  {
   "cell_type": "code",
   "execution_count": 6,
   "metadata": {},
   "outputs": [
    {
     "data": {
      "text/html": [
       "<div>\n",
       "<style scoped>\n",
       "    .dataframe tbody tr th:only-of-type {\n",
       "        vertical-align: middle;\n",
       "    }\n",
       "\n",
       "    .dataframe tbody tr th {\n",
       "        vertical-align: top;\n",
       "    }\n",
       "\n",
       "    .dataframe thead th {\n",
       "        text-align: right;\n",
       "    }\n",
       "</style>\n",
       "<table border=\"1\" class=\"dataframe\">\n",
       "  <thead>\n",
       "    <tr style=\"text-align: right;\">\n",
       "      <th></th>\n",
       "      <th>cat</th>\n",
       "      <th>cattle</th>\n",
       "      <th>mouse</th>\n",
       "      <th>rat</th>\n",
       "      <th>wolf</th>\n",
       "      <th>sheep</th>\n",
       "    </tr>\n",
       "  </thead>\n",
       "  <tbody>\n",
       "    <tr>\n",
       "      <th>cat</th>\n",
       "      <td>1.0</td>\n",
       "      <td>NaN</td>\n",
       "      <td>NaN</td>\n",
       "      <td>NaN</td>\n",
       "      <td>NaN</td>\n",
       "      <td>NaN</td>\n",
       "    </tr>\n",
       "    <tr>\n",
       "      <th>cattle</th>\n",
       "      <td>0.891014</td>\n",
       "      <td>1.0</td>\n",
       "      <td>NaN</td>\n",
       "      <td>NaN</td>\n",
       "      <td>NaN</td>\n",
       "      <td>NaN</td>\n",
       "    </tr>\n",
       "    <tr>\n",
       "      <th>mouse</th>\n",
       "      <td>0.907352</td>\n",
       "      <td>0.911593</td>\n",
       "      <td>1.0</td>\n",
       "      <td>NaN</td>\n",
       "      <td>NaN</td>\n",
       "      <td>NaN</td>\n",
       "    </tr>\n",
       "    <tr>\n",
       "      <th>rat</th>\n",
       "      <td>0.902371</td>\n",
       "      <td>0.899739</td>\n",
       "      <td>0.832052</td>\n",
       "      <td>1.0</td>\n",
       "      <td>NaN</td>\n",
       "      <td>NaN</td>\n",
       "    </tr>\n",
       "    <tr>\n",
       "      <th>wolf</th>\n",
       "      <td>0.867297</td>\n",
       "      <td>0.889939</td>\n",
       "      <td>0.904706</td>\n",
       "      <td>0.900965</td>\n",
       "      <td>1.0</td>\n",
       "      <td>NaN</td>\n",
       "    </tr>\n",
       "    <tr>\n",
       "      <th>sheep</th>\n",
       "      <td>0.891014</td>\n",
       "      <td>0.784944</td>\n",
       "      <td>0.903954</td>\n",
       "      <td>0.894968</td>\n",
       "      <td>0.892892</td>\n",
       "      <td>1.0</td>\n",
       "    </tr>\n",
       "  </tbody>\n",
       "</table>\n",
       "</div>"
      ],
      "text/plain": [
       "             cat    cattle     mouse       rat      wolf sheep\n",
       "cat          1.0       NaN       NaN       NaN       NaN   NaN\n",
       "cattle  0.891014       1.0       NaN       NaN       NaN   NaN\n",
       "mouse   0.907352  0.911593       1.0       NaN       NaN   NaN\n",
       "rat     0.902371  0.899739  0.832052       1.0       NaN   NaN\n",
       "wolf    0.867297  0.889939  0.904706  0.900965       1.0   NaN\n",
       "sheep   0.891014  0.784944  0.903954  0.894968  0.892892   1.0"
      ]
     },
     "execution_count": 6,
     "metadata": {},
     "output_type": "execute_result"
    }
   ],
   "source": [
    "df_gzip = fill_similarity_matrix(method=\"gzip\")\n",
    "df_gzip"
   ]
  },
  {
   "cell_type": "code",
   "execution_count": 7,
   "metadata": {},
   "outputs": [
    {
     "data": {
      "text/html": [
       "<div>\n",
       "<style scoped>\n",
       "    .dataframe tbody tr th:only-of-type {\n",
       "        vertical-align: middle;\n",
       "    }\n",
       "\n",
       "    .dataframe tbody tr th {\n",
       "        vertical-align: top;\n",
       "    }\n",
       "\n",
       "    .dataframe thead th {\n",
       "        text-align: right;\n",
       "    }\n",
       "</style>\n",
       "<table border=\"1\" class=\"dataframe\">\n",
       "  <thead>\n",
       "    <tr style=\"text-align: right;\">\n",
       "      <th></th>\n",
       "      <th>cat</th>\n",
       "      <th>cattle</th>\n",
       "      <th>mouse</th>\n",
       "      <th>rat</th>\n",
       "      <th>wolf</th>\n",
       "      <th>sheep</th>\n",
       "    </tr>\n",
       "  </thead>\n",
       "  <tbody>\n",
       "    <tr>\n",
       "      <th>cat</th>\n",
       "      <td>1.0</td>\n",
       "      <td>NaN</td>\n",
       "      <td>NaN</td>\n",
       "      <td>NaN</td>\n",
       "      <td>NaN</td>\n",
       "      <td>NaN</td>\n",
       "    </tr>\n",
       "    <tr>\n",
       "      <th>cattle</th>\n",
       "      <td>0.620084</td>\n",
       "      <td>1.0</td>\n",
       "      <td>NaN</td>\n",
       "      <td>NaN</td>\n",
       "      <td>NaN</td>\n",
       "      <td>NaN</td>\n",
       "    </tr>\n",
       "    <tr>\n",
       "      <th>mouse</th>\n",
       "      <td>0.761506</td>\n",
       "      <td>0.771693</td>\n",
       "      <td>1.0</td>\n",
       "      <td>NaN</td>\n",
       "      <td>NaN</td>\n",
       "      <td>NaN</td>\n",
       "    </tr>\n",
       "    <tr>\n",
       "      <th>rat</th>\n",
       "      <td>0.743096</td>\n",
       "      <td>0.763269</td>\n",
       "      <td>0.515718</td>\n",
       "      <td>1.0</td>\n",
       "      <td>NaN</td>\n",
       "      <td>NaN</td>\n",
       "    </tr>\n",
       "    <tr>\n",
       "      <th>wolf</th>\n",
       "      <td>0.583887</td>\n",
       "      <td>0.651163</td>\n",
       "      <td>0.76412</td>\n",
       "      <td>0.746678</td>\n",
       "      <td>1.0</td>\n",
       "      <td>NaN</td>\n",
       "    </tr>\n",
       "    <tr>\n",
       "      <th>sheep</th>\n",
       "      <td>0.654393</td>\n",
       "      <td>0.433978</td>\n",
       "      <td>0.726661</td>\n",
       "      <td>0.727502</td>\n",
       "      <td>0.655316</td>\n",
       "      <td>1.0</td>\n",
       "    </tr>\n",
       "  </tbody>\n",
       "</table>\n",
       "</div>"
      ],
      "text/plain": [
       "             cat    cattle     mouse       rat      wolf sheep\n",
       "cat          1.0       NaN       NaN       NaN       NaN   NaN\n",
       "cattle  0.620084       1.0       NaN       NaN       NaN   NaN\n",
       "mouse   0.761506  0.771693       1.0       NaN       NaN   NaN\n",
       "rat     0.743096  0.763269  0.515718       1.0       NaN   NaN\n",
       "wolf    0.583887  0.651163   0.76412  0.746678       1.0   NaN\n",
       "sheep   0.654393  0.433978  0.726661  0.727502  0.655316   1.0"
      ]
     },
     "execution_count": 7,
     "metadata": {},
     "output_type": "execute_result"
    }
   ],
   "source": [
    "df_7zip = fill_similarity_matrix(method=\"7zip\")\n",
    "df_7zip"
   ]
  },
  {
   "cell_type": "code",
   "execution_count": 17,
   "metadata": {},
   "outputs": [
    {
     "data": {
      "image/png": "[encoded data removed]",
      "text/plain": [
       "<Figure size 1600x600 with 4 Axes>"
      ]
     },
     "metadata": {},
     "output_type": "display_data"
    }
   ],
   "source": [
    "import seaborn as sns\n",
    "import matplotlib.pyplot as plt\n",
    "\n",
    "fig, ax = plt.subplots(1, 2, figsize=(16, 6))\n",
    "sns.heatmap(df_gzip.fillna(0), annot=True, ax=ax[0], cmap=\"Blues\")\n",
    "ax[0].set_title(\"gzip\")\n",
    "\n",
    "sns.heatmap(df_7zip.fillna(0), annot=True, ax=ax[1], cmap=\"Blues\")\n",
    "ax[1].set_title(\"7zip\");\n"
   ]
  }
 ],
 "metadata": {
  "kernelspec": {
   "display_name": "Python 3",
   "language": "python",
   "name": "python3"
  },
  "language_info": {
   "codemirror_mode": {
    "name": "ipython",
    "version": 3
   },
   "file_extension": ".py",
   "mimetype": "text/x-python",
   "name": "python",
   "nbconvert_exporter": "python",
   "pygments_lexer": "ipython3",
   "version": "3.9.13"
  }
 },
 "nbformat": 4,
 "nbformat_minor": 2
}
