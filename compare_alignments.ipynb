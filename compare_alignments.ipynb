{
 "cells": [
  {
   "cell_type": "code",
   "execution_count": 21,
   "metadata": {
    "ExecuteTime": {
     "end_time": "2024-01-06T22:27:19.801732400Z",
     "start_time": "2024-01-06T22:27:19.781927900Z"
    }
   },
   "outputs": [],
   "source": [
    "import pandas as pd"
   ]
  },
  {
   "cell_type": "code",
   "execution_count": 22,
   "metadata": {
    "ExecuteTime": {
     "end_time": "2024-01-06T22:27:19.857697Z",
     "start_time": "2024-01-06T22:27:19.794386600Z"
    }
   },
   "outputs": [],
   "source": [
    "from calculate_alignment import calculate_distance_score"
   ]
  },
  {
   "cell_type": "code",
   "execution_count": 23,
   "metadata": {
    "ExecuteTime": {
     "end_time": "2024-01-06T22:27:19.857697Z",
     "start_time": "2024-01-06T22:27:19.808105800Z"
    }
   },
   "outputs": [],
   "source": [
    "ORGANISM_NAMES = [\n",
    "    \"cat\",\n",
    "    \"cattle\",\n",
    "    \"mouse\",\n",
    "    \"rat\",\n",
    "    \"wolf\",\n",
    "    \"sheep\",\n",
    "]"
   ]
  },
  {
   "cell_type": "code",
   "execution_count": 24,
   "metadata": {
    "ExecuteTime": {
     "end_time": "2024-01-06T22:27:19.858736900Z",
     "start_time": "2024-01-06T22:27:19.824053600Z"
    }
   },
   "outputs": [],
   "source": [
    "ORGANISM_FILES = [f\"data/{name}.txt\" for name in ORGANISM_NAMES]"
   ]
  },
  {
   "cell_type": "markdown",
   "metadata": {},
   "source": [
    "# Gzip"
   ]
  },
  {
   "cell_type": "code",
   "execution_count": 25,
   "metadata": {
    "ExecuteTime": {
     "end_time": "2024-01-06T22:27:19.859745100Z",
     "start_time": "2024-01-06T22:27:19.843382400Z"
    }
   },
   "outputs": [],
   "source": [
    "# for each of the organism pairs, calculate the alignment score\n",
    "# only on lowercase triangular matrix\n",
    "\n",
    "\n",
    "def fill_distance_matrix(method: str = \"gzip\") -> pd.DataFrame:\n",
    "    \"\"\"Fill the similarity matrix with the alignment scores.\n",
    "\n",
    "    Args:\n",
    "        method (str, optional): The method to use for calculating the alignment score. Defaults to \"gzip\".\n",
    "\n",
    "    Returns:\n",
    "        pd.DataFrame: The similarity matrix.\n",
    "    \"\"\"\n",
    "    df = pd.DataFrame(index=ORGANISM_NAMES, columns=ORGANISM_NAMES)\n",
    "    # note that upper triangular values remain NaN\n",
    "    # but matrix is symmetric!\n",
    "    # still, we do not fill them for clarity\n",
    "    for i in range(len(ORGANISM_NAMES)):\n",
    "        for j in range(len(ORGANISM_NAMES)):\n",
    "            name1 = ORGANISM_NAMES[i]\n",
    "            name2 = ORGANISM_NAMES[j]\n",
    "            # skip diagonal and upper triangular matrix\n",
    "            if i == j:\n",
    "                df.loc[name1, name2] = 0.\n",
    "            if i >= j:\n",
    "                continue\n",
    "            result = calculate_distance_score(\n",
    "                file_a=ORGANISM_FILES[i], file_b=ORGANISM_FILES[j], method=method\n",
    "            )\n",
    "            df.loc[name2, name1] = result\n",
    "    return df"
   ]
  },
  {
   "cell_type": "code",
   "execution_count": 26,
   "metadata": {
    "ExecuteTime": {
     "end_time": "2024-01-06T22:27:20.215943800Z",
     "start_time": "2024-01-06T22:27:19.855590500Z"
    }
   },
   "outputs": [
    {
     "data": {
      "text/plain": "             cat    cattle     mouse       rat      wolf sheep\ncat          0.0       NaN       NaN       NaN       NaN   NaN\ncattle  0.891014       0.0       NaN       NaN       NaN   NaN\nmouse   0.907352  0.911593       0.0       NaN       NaN   NaN\nrat     0.902371  0.899739  0.832052       0.0       NaN   NaN\nwolf    0.867297  0.889939  0.904706  0.900965       0.0   NaN\nsheep   0.891014  0.784944  0.903954  0.894968  0.892892   0.0",
      "text/html": "<div>\n<style scoped>\n    .dataframe tbody tr th:only-of-type {\n        vertical-align: middle;\n    }\n\n    .dataframe tbody tr th {\n        vertical-align: top;\n    }\n\n    .dataframe thead th {\n        text-align: right;\n    }\n</style>\n<table border=\"1\" class=\"dataframe\">\n  <thead>\n    <tr style=\"text-align: right;\">\n      <th></th>\n      <th>cat</th>\n      <th>cattle</th>\n      <th>mouse</th>\n      <th>rat</th>\n      <th>wolf</th>\n      <th>sheep</th>\n    </tr>\n  </thead>\n  <tbody>\n    <tr>\n      <th>cat</th>\n      <td>0.0</td>\n      <td>NaN</td>\n      <td>NaN</td>\n      <td>NaN</td>\n      <td>NaN</td>\n      <td>NaN</td>\n    </tr>\n    <tr>\n      <th>cattle</th>\n      <td>0.891014</td>\n      <td>0.0</td>\n      <td>NaN</td>\n      <td>NaN</td>\n      <td>NaN</td>\n      <td>NaN</td>\n    </tr>\n    <tr>\n      <th>mouse</th>\n      <td>0.907352</td>\n      <td>0.911593</td>\n      <td>0.0</td>\n      <td>NaN</td>\n      <td>NaN</td>\n      <td>NaN</td>\n    </tr>\n    <tr>\n      <th>rat</th>\n      <td>0.902371</td>\n      <td>0.899739</td>\n      <td>0.832052</td>\n      <td>0.0</td>\n      <td>NaN</td>\n      <td>NaN</td>\n    </tr>\n    <tr>\n      <th>wolf</th>\n      <td>0.867297</td>\n      <td>0.889939</td>\n      <td>0.904706</td>\n      <td>0.900965</td>\n      <td>0.0</td>\n      <td>NaN</td>\n    </tr>\n    <tr>\n      <th>sheep</th>\n      <td>0.891014</td>\n      <td>0.784944</td>\n      <td>0.903954</td>\n      <td>0.894968</td>\n      <td>0.892892</td>\n      <td>0.0</td>\n    </tr>\n  </tbody>\n</table>\n</div>"
     },
     "execution_count": 26,
     "metadata": {},
     "output_type": "execute_result"
    }
   ],
   "source": [
    "df_gzip = fill_distance_matrix(method=\"gzip\")\n",
    "df_gzip"
   ]
  },
  {
   "cell_type": "code",
   "execution_count": 27,
   "metadata": {
    "ExecuteTime": {
     "end_time": "2024-01-06T22:27:20.628870600Z",
     "start_time": "2024-01-06T22:27:20.218237500Z"
    }
   },
   "outputs": [
    {
     "data": {
      "text/plain": "             cat    cattle     mouse       rat      wolf sheep\ncat          0.0       NaN       NaN       NaN       NaN   NaN\ncattle  0.620084       0.0       NaN       NaN       NaN   NaN\nmouse   0.761506  0.771693       0.0       NaN       NaN   NaN\nrat     0.743096  0.763269  0.515718       0.0       NaN   NaN\nwolf    0.583887  0.651163   0.76412  0.746678       0.0   NaN\nsheep   0.654393  0.433978  0.726661  0.727502  0.655316   0.0",
      "text/html": "<div>\n<style scoped>\n    .dataframe tbody tr th:only-of-type {\n        vertical-align: middle;\n    }\n\n    .dataframe tbody tr th {\n        vertical-align: top;\n    }\n\n    .dataframe thead th {\n        text-align: right;\n    }\n</style>\n<table border=\"1\" class=\"dataframe\">\n  <thead>\n    <tr style=\"text-align: right;\">\n      <th></th>\n      <th>cat</th>\n      <th>cattle</th>\n      <th>mouse</th>\n      <th>rat</th>\n      <th>wolf</th>\n      <th>sheep</th>\n    </tr>\n  </thead>\n  <tbody>\n    <tr>\n      <th>cat</th>\n      <td>0.0</td>\n      <td>NaN</td>\n      <td>NaN</td>\n      <td>NaN</td>\n      <td>NaN</td>\n      <td>NaN</td>\n    </tr>\n    <tr>\n      <th>cattle</th>\n      <td>0.620084</td>\n      <td>0.0</td>\n      <td>NaN</td>\n      <td>NaN</td>\n      <td>NaN</td>\n      <td>NaN</td>\n    </tr>\n    <tr>\n      <th>mouse</th>\n      <td>0.761506</td>\n      <td>0.771693</td>\n      <td>0.0</td>\n      <td>NaN</td>\n      <td>NaN</td>\n      <td>NaN</td>\n    </tr>\n    <tr>\n      <th>rat</th>\n      <td>0.743096</td>\n      <td>0.763269</td>\n      <td>0.515718</td>\n      <td>0.0</td>\n      <td>NaN</td>\n      <td>NaN</td>\n    </tr>\n    <tr>\n      <th>wolf</th>\n      <td>0.583887</td>\n      <td>0.651163</td>\n      <td>0.76412</td>\n      <td>0.746678</td>\n      <td>0.0</td>\n      <td>NaN</td>\n    </tr>\n    <tr>\n      <th>sheep</th>\n      <td>0.654393</td>\n      <td>0.433978</td>\n      <td>0.726661</td>\n      <td>0.727502</td>\n      <td>0.655316</td>\n      <td>0.0</td>\n    </tr>\n  </tbody>\n</table>\n</div>"
     },
     "execution_count": 27,
     "metadata": {},
     "output_type": "execute_result"
    }
   ],
   "source": [
    "df_7zip = fill_distance_matrix(method=\"7zip\")\n",
    "df_7zip"
   ]
  },
  {
   "cell_type": "code",
   "execution_count": 28,
   "metadata": {
    "ExecuteTime": {
     "end_time": "2024-01-06T22:27:21.167791300Z",
     "start_time": "2024-01-06T22:27:20.635875400Z"
    }
   },
   "outputs": [
    {
     "data": {
      "text/plain": "<Figure size 1152x432 with 4 Axes>",
      "image/png": "[encoded data removed]"
     },
     "metadata": {},
     "output_type": "display_data"
    }
   ],
   "source": [
    "import seaborn as sns\n",
    "import matplotlib.pyplot as plt\n",
    "\n",
    "fig, ax = plt.subplots(1, 2, figsize=(16, 6))\n",
    "sns.heatmap(df_gzip.fillna(0), annot=True, ax=ax[0], cmap=\"Blues\")\n",
    "ax[0].set_title(\"gzip\")\n",
    "\n",
    "sns.heatmap(df_7zip.fillna(0), annot=True, ax=ax[1], cmap=\"Blues\")\n",
    "ax[1].set_title(\"7zip\");\n"
   ]
  },
  {
   "cell_type": "code",
   "execution_count": 29,
   "outputs": [
    {
     "ename": "ModuleNotFoundError",
     "evalue": "No module named 'Bio'",
     "output_type": "error",
     "traceback": [
      "\u001B[1;31m---------------------------------------------------------------------------\u001B[0m",
      "\u001B[1;31mModuleNotFoundError\u001B[0m                       Traceback (most recent call last)",
      "\u001B[1;32m~\\AppData\\Local\\Temp/ipykernel_27968/821553655.py\u001B[0m in \u001B[0;36m<module>\u001B[1;34m\u001B[0m\n\u001B[1;32m----> 1\u001B[1;33m \u001B[1;32mfrom\u001B[0m \u001B[0mBio\u001B[0m\u001B[1;33m.\u001B[0m\u001B[0mPhylo\u001B[0m\u001B[1;33m.\u001B[0m\u001B[0mTreeConstruction\u001B[0m \u001B[1;32mimport\u001B[0m \u001B[0mDistanceTreeConstructor\u001B[0m\u001B[1;33m,\u001B[0m \u001B[0m_DistanceMatrix\u001B[0m\u001B[1;33m\u001B[0m\u001B[1;33m\u001B[0m\u001B[0m\n\u001B[0m\u001B[0;32m      2\u001B[0m \u001B[1;33m\u001B[0m\u001B[0m\n\u001B[0;32m      3\u001B[0m \u001B[1;32mdef\u001B[0m \u001B[0mcreate_distance_tree\u001B[0m\u001B[1;33m(\u001B[0m\u001B[0mdf\u001B[0m\u001B[1;33m:\u001B[0m \u001B[0mpd\u001B[0m\u001B[1;33m.\u001B[0m\u001B[0mDataFrame\u001B[0m\u001B[1;33m)\u001B[0m \u001B[1;33m->\u001B[0m \u001B[0mDistanceTreeConstructor\u001B[0m\u001B[1;33m:\u001B[0m\u001B[1;33m\u001B[0m\u001B[1;33m\u001B[0m\u001B[0m\n\u001B[0;32m      4\u001B[0m     \"\"\"Create a distance tree from a similarity matrix.\n\u001B[0;32m      5\u001B[0m \u001B[1;33m\u001B[0m\u001B[0m\n",
      "\u001B[1;31mModuleNotFoundError\u001B[0m: No module named 'Bio'"
     ]
    }
   ],
   "source": [
    "from Bio.Phylo.TreeConstruction import DistanceTreeConstructor, _DistanceMatrix\n",
    "\n",
    "def create_distance_tree(df: pd.DataFrame) -> DistanceTreeConstructor:\n",
    "    \"\"\"Create a distance tree from a similarity matrix.\n",
    "\n",
    "    Args:\n",
    "        df (pd.DataFrame): The similarity matrix.\n",
    "\n",
    "    Returns:\n",
    "        DistanceTreeConstructor: The distance tree.\n",
    "    \"\"\"\n",
    "    # convert to distance matrix\n",
    "    #distance_matrix = df.applymap(lambda x: 1 - x)\n",
    "    distance_matrix = df\n",
    "    names = df.columns.values.tolist()\n",
    "    distance_val = distance_matrix.values.tolist()\n",
    "\n",
    "    distance_val = [[ subelt for subelt in elt if str(subelt) != \"nan\" ] for elt in distance_val]\n",
    "    distance_matrix = _DistanceMatrix(names, distance_val)\n",
    "\n",
    "    # create the constructor\n",
    "    constructor = DistanceTreeConstructor()\n",
    "    # Construct the phlyogenetic tree using UPGMA algorithm\n",
    "    neighbor_tree = constructor.nj(distance_matrix)\n",
    "    return neighbor_tree\n"
   ],
   "metadata": {
    "collapsed": false,
    "ExecuteTime": {
     "end_time": "2024-01-06T22:27:21.277795900Z",
     "start_time": "2024-01-06T22:27:21.161536600Z"
    }
   }
  },
  {
   "cell_type": "code",
   "execution_count": null,
   "outputs": [],
   "source": [
    "from Bio import Phylo\n",
    "# draw trees for gzip and 7zip\n",
    "def get_label(leaf):\n",
    "    if leaf.name[:5] == \"Inner\":\n",
    "        return \"\"\n",
    "    return leaf.name\n",
    "\n",
    "fig, ax = plt.subplots(1, 2, figsize=(16, 6))\n",
    "gzipTree = create_distance_tree(df_gzip)\n",
    "Phylo.draw(gzipTree, label_func=get_label, branch_labels=lambda c: round(c.branch_length, 2), axes=ax[0], do_show= False)\n",
    "ax[0].set_title(\"gzip\");\n",
    "\n",
    "sev_zipTree = create_distance_tree(df_7zip)\n",
    "Phylo.draw(sev_zipTree, label_func=get_label, branch_labels=lambda c: round(c.branch_length, 2), axes=ax[1], do_show= False)\n",
    "ax[1].set_title(\"7zip\");\n",
    "\n",
    "plt.savefig(\"phylogenetic_tree.png\")"
   ],
   "metadata": {
    "collapsed": false,
    "ExecuteTime": {
     "start_time": "2024-01-06T22:27:21.189795Z"
    }
   }
  }
 ],
 "metadata": {
  "kernelspec": {
   "display_name": "Python 3",
   "language": "python",
   "name": "python3"
  },
  "language_info": {
   "codemirror_mode": {
    "name": "ipython",
    "version": 3
   },
   "file_extension": ".py",
   "mimetype": "text/x-python",
   "name": "python",
   "nbconvert_exporter": "python",
   "pygments_lexer": "ipython3",
   "version": "3.9.13"
  }
 },
 "nbformat": 4,
 "nbformat_minor": 2
}
